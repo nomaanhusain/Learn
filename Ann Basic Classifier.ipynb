{
 "cells": [
  {
   "cell_type": "code",
   "execution_count": 9,
   "metadata": {},
   "outputs": [],
   "source": [
    "import tensorflow as tf\n",
    "from tensorflow import keras\n",
    "from tensorflow.keras import layers,models,datasets\n",
    "import matplotlib.pyplot as plt\n",
    "import numpy as np"
   ]
  },
  {
   "cell_type": "code",
   "execution_count": 2,
   "metadata": {},
   "outputs": [],
   "source": [
    "(x_train,y_train), (x_test,y_test) = datasets.cifar10.load_data()"
   ]
  },
  {
   "cell_type": "code",
   "execution_count": 3,
   "metadata": {},
   "outputs": [],
   "source": [
    "y_train=y_train.reshape(-1,)\n",
    "y_test=y_test.reshape(-1,)\n",
    "y_train[:10]\n",
    "types=[\"airplanes\",\"car\",\"bird\",\"cat\",\"deer\",\"dog\",\"frog\",\"horse\",\"ship\",\"truck\"]"
   ]
  },
  {
   "cell_type": "code",
   "execution_count": 4,
   "metadata": {},
   "outputs": [],
   "source": [
    "def plot_sample(x,y,index):\n",
    "    plt.figure(figsize=(15,2)) #rezize for better viewing\n",
    "    plt.imshow(x[index])\n",
    "    plt.xlabel(types[y[index]])"
   ]
  },
  {
   "cell_type": "code",
   "execution_count": 6,
   "metadata": {},
   "outputs": [
    {
     "data": {
      "image/png": "[encoded data removed]",
      "text/plain": [
       "<Figure size 1080x144 with 1 Axes>"
      ]
     },
     "metadata": {
      "needs_background": "light"
     },
     "output_type": "display_data"
    }
   ],
   "source": [
    "plot_sample(x_train,y_train,1154)"
   ]
  },
  {
   "cell_type": "code",
   "execution_count": 7,
   "metadata": {},
   "outputs": [],
   "source": [
    "x_train = x_train/255\n",
    "x_test = x_test/255"
   ]
  },
  {
   "cell_type": "code",
   "execution_count": 10,
   "metadata": {},
   "outputs": [],
   "source": [
    "y_train_categorical = keras.utils.to_categorical(\n",
    "    y_train, num_classes=10, dtype='float32'\n",
    ")\n",
    "y_test_categorical = keras.utils.to_categorical(\n",
    "    y_test, num_classes=10, dtype='float32'\n",
    ")"
   ]
  },
  {
   "cell_type": "code",
   "execution_count": 15,
   "metadata": {},
   "outputs": [],
   "source": [
    "ann = keras.Sequential([\n",
    "        keras.layers.Flatten(input_shape=(32,32,3)),\n",
    "        keras.layers.Dense(3000, activation='relu'),\n",
    "        keras.layers.Dense(1000, activation='relu'),\n",
    "        keras.layers.Dense(10, activation='sigmoid')    \n",
    "    ])\n",
    "\n",
    "ann.compile(optimizer='SGD',\n",
    "              loss='categorical_crossentropy',\n",
    "              metrics=['accuracy'])"
   ]
  },
  {
   "cell_type": "code",
   "execution_count": 16,
   "metadata": {},
   "outputs": [
    {
     "name": "stdout",
     "output_type": "stream",
     "text": [
      "Epoch 1/11\n",
      "1563/1563 [==============================] - 10s 6ms/step - loss: 1.8557 - accuracy: 0.3342\n",
      "Epoch 2/11\n",
      "1563/1563 [==============================] - 10s 6ms/step - loss: 1.6578 - accuracy: 0.4140\n",
      "Epoch 3/11\n",
      "1563/1563 [==============================] - 10s 6ms/step - loss: 1.5720 - accuracy: 0.4448\n",
      "Epoch 4/11\n",
      "1563/1563 [==============================] - 10s 6ms/step - loss: 1.5082 - accuracy: 0.4679\n",
      "Epoch 5/11\n",
      "1563/1563 [==============================] - 10s 6ms/step - loss: 1.4593 - accuracy: 0.4885\n",
      "Epoch 6/11\n",
      "1563/1563 [==============================] - 10s 6ms/step - loss: 1.4151 - accuracy: 0.5007\n",
      "Epoch 7/11\n",
      "1563/1563 [==============================] - 10s 6ms/step - loss: 1.3759 - accuracy: 0.5156\n",
      "Epoch 8/11\n",
      "1563/1563 [==============================] - 10s 6ms/step - loss: 1.3411 - accuracy: 0.5291\n",
      "Epoch 9/11\n",
      "1563/1563 [==============================] - 10s 6ms/step - loss: 1.3083 - accuracy: 0.5396\n",
      "Epoch 10/11\n",
      "1563/1563 [==============================] - 10s 6ms/step - loss: 1.2808 - accuracy: 0.5479\n",
      "Epoch 11/11\n",
      "1563/1563 [==============================] - 10s 6ms/step - loss: 1.2503 - accuracy: 0.5630\n"
     ]
    },
    {
     "data": {
      "text/plain": [
       "<tensorflow.python.keras.callbacks.History at 0x2166a711be0>"
      ]
     },
     "execution_count": 16,
     "metadata": {},
     "output_type": "execute_result"
    }
   ],
   "source": [
    "ann.fit(x_train, y_train_categorical, epochs=11)"
   ]
  },
  {
   "cell_type": "code",
   "execution_count": 18,
   "metadata": {},
   "outputs": [
    {
     "name": "stdout",
     "output_type": "stream",
     "text": [
      "313/313 [==============================] - 1s 3ms/step - loss: 1.3696 - accuracy: 0.5132\n"
     ]
    },
    {
     "data": {
      "text/plain": [
       "[1.3695907592773438, 0.5131999850273132]"
      ]
     },
     "execution_count": 18,
     "metadata": {},
     "output_type": "execute_result"
    }
   ],
   "source": [
    "ann.evaluate(x_test,y_test_categorical)"
   ]
  },
  {
   "cell_type": "code",
   "execution_count": null,
   "metadata": {},
   "outputs": [],
   "source": []
  }
 ],
 "metadata": {
  "kernelspec": {
   "display_name": "Python 3",
   "language": "python",
   "name": "python3"
  },
  "language_info": {
   "codemirror_mode": {
    "name": "ipython",
    "version": 3
   },
   "file_extension": ".py",
   "mimetype": "text/x-python",
   "name": "python",
   "nbconvert_exporter": "python",
   "pygments_lexer": "ipython3",
   "version": "3.8.6"
  }
 },
 "nbformat": 4,
 "nbformat_minor": 4
}
